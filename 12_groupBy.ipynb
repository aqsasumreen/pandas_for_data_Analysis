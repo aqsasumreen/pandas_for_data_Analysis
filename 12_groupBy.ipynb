{
 "cells": [
  {
   "cell_type": "code",
   "id": "initial_id",
   "metadata": {
    "collapsed": true,
    "ExecuteTime": {
     "end_time": "2024-06-22T17:05:08.759159Z",
     "start_time": "2024-06-22T17:05:08.693877Z"
    }
   },
   "source": [
    "import pandas as pd\n",
    "a = pd.DataFrame({\"A\": [\"a\", \"b\", \"c\", \"b\", \"c\",  \"d\", \"a\", \"a\" ], \"S_1\": [10,11, 12, 10, 11, 12,13, 15], \"S_2\": [16, 17, 18, 19, 20, 21, 20, 22]})\n",
    "b = a.groupby(\"S_1\")\n",
    "for x, y in b:\n",
    "    print(x)\n",
    "    print(y)\n",
    "    print(\" \")\n",
    "    "
   ],
   "outputs": [
    {
     "name": "stdout",
     "output_type": "stream",
     "text": [
      "10\n",
      "   A  S_1  S_2\n",
      "0  a   10   16\n",
      "3  b   10   19\n",
      " \n",
      "11\n",
      "   A  S_1  S_2\n",
      "1  b   11   17\n",
      "4  c   11   20\n",
      " \n",
      "12\n",
      "   A  S_1  S_2\n",
      "2  c   12   18\n",
      "5  d   12   21\n",
      " \n",
      "13\n",
      "   A  S_1  S_2\n",
      "6  a   13   20\n",
      " \n",
      "15\n",
      "   A  S_1  S_2\n",
      "7  a   15   22\n",
      " \n"
     ]
    }
   ],
   "execution_count": 8
  },
  {
   "metadata": {
    "ExecuteTime": {
     "end_time": "2024-06-22T17:10:34.114506Z",
     "start_time": "2024-06-22T17:10:34.086223Z"
    }
   },
   "cell_type": "code",
   "source": "b.get_group(15)",
   "id": "e7bb4c974a809d83",
   "outputs": [
    {
     "data": {
      "text/plain": [
       "   A  S_1  S_2\n",
       "7  a   15   22"
      ],
      "text/html": [
       "<div>\n",
       "<style scoped>\n",
       "    .dataframe tbody tr th:only-of-type {\n",
       "        vertical-align: middle;\n",
       "    }\n",
       "\n",
       "    .dataframe tbody tr th {\n",
       "        vertical-align: top;\n",
       "    }\n",
       "\n",
       "    .dataframe thead th {\n",
       "        text-align: right;\n",
       "    }\n",
       "</style>\n",
       "<table border=\"1\" class=\"dataframe\">\n",
       "  <thead>\n",
       "    <tr style=\"text-align: right;\">\n",
       "      <th></th>\n",
       "      <th>A</th>\n",
       "      <th>S_1</th>\n",
       "      <th>S_2</th>\n",
       "    </tr>\n",
       "  </thead>\n",
       "  <tbody>\n",
       "    <tr>\n",
       "      <th>7</th>\n",
       "      <td>a</td>\n",
       "      <td>15</td>\n",
       "      <td>22</td>\n",
       "    </tr>\n",
       "  </tbody>\n",
       "</table>\n",
       "</div>"
      ]
     },
     "execution_count": 11,
     "metadata": {},
     "output_type": "execute_result"
    }
   ],
   "execution_count": 11
  },
  {
   "metadata": {
    "ExecuteTime": {
     "end_time": "2024-06-22T17:12:05.564828Z",
     "start_time": "2024-06-22T17:12:05.541439Z"
    }
   },
   "cell_type": "code",
   "source": "b.max()",
   "id": "807929c588967aba",
   "outputs": [
    {
     "data": {
      "text/plain": [
       "     A  S_2\n",
       "S_1        \n",
       "10   b   19\n",
       "11   c   20\n",
       "12   d   21\n",
       "13   a   20\n",
       "15   a   22"
      ],
      "text/html": [
       "<div>\n",
       "<style scoped>\n",
       "    .dataframe tbody tr th:only-of-type {\n",
       "        vertical-align: middle;\n",
       "    }\n",
       "\n",
       "    .dataframe tbody tr th {\n",
       "        vertical-align: top;\n",
       "    }\n",
       "\n",
       "    .dataframe thead th {\n",
       "        text-align: right;\n",
       "    }\n",
       "</style>\n",
       "<table border=\"1\" class=\"dataframe\">\n",
       "  <thead>\n",
       "    <tr style=\"text-align: right;\">\n",
       "      <th></th>\n",
       "      <th>A</th>\n",
       "      <th>S_2</th>\n",
       "    </tr>\n",
       "    <tr>\n",
       "      <th>S_1</th>\n",
       "      <th></th>\n",
       "      <th></th>\n",
       "    </tr>\n",
       "  </thead>\n",
       "  <tbody>\n",
       "    <tr>\n",
       "      <th>10</th>\n",
       "      <td>b</td>\n",
       "      <td>19</td>\n",
       "    </tr>\n",
       "    <tr>\n",
       "      <th>11</th>\n",
       "      <td>c</td>\n",
       "      <td>20</td>\n",
       "    </tr>\n",
       "    <tr>\n",
       "      <th>12</th>\n",
       "      <td>d</td>\n",
       "      <td>21</td>\n",
       "    </tr>\n",
       "    <tr>\n",
       "      <th>13</th>\n",
       "      <td>a</td>\n",
       "      <td>20</td>\n",
       "    </tr>\n",
       "    <tr>\n",
       "      <th>15</th>\n",
       "      <td>a</td>\n",
       "      <td>22</td>\n",
       "    </tr>\n",
       "  </tbody>\n",
       "</table>\n",
       "</div>"
      ]
     },
     "execution_count": 12,
     "metadata": {},
     "output_type": "execute_result"
    }
   ],
   "execution_count": 12
  },
  {
   "metadata": {
    "ExecuteTime": {
     "end_time": "2024-06-22T17:14:21.878277Z",
     "start_time": "2024-06-22T17:14:21.855487Z"
    }
   },
   "cell_type": "code",
   "source": [
    "c = list(b)\n",
    "c\n",
    "# now we can apply lists functions on it\n"
   ],
   "id": "26626c9008f93cf1",
   "outputs": [
    {
     "data": {
      "text/plain": [
       "[(10,\n",
       "     A  S_1  S_2\n",
       "  0  a   10   16\n",
       "  3  b   10   19),\n",
       " (11,\n",
       "     A  S_1  S_2\n",
       "  1  b   11   17\n",
       "  4  c   11   20),\n",
       " (12,\n",
       "     A  S_1  S_2\n",
       "  2  c   12   18\n",
       "  5  d   12   21),\n",
       " (13,\n",
       "     A  S_1  S_2\n",
       "  6  a   13   20),\n",
       " (15,\n",
       "     A  S_1  S_2\n",
       "  7  a   15   22)]"
      ]
     },
     "execution_count": 14,
     "metadata": {},
     "output_type": "execute_result"
    }
   ],
   "execution_count": 14
  },
  {
   "metadata": {},
   "cell_type": "code",
   "outputs": [],
   "execution_count": null,
   "source": "",
   "id": "26a4e223a8fad0a9"
  }
 ],
 "metadata": {
  "kernelspec": {
   "display_name": "Python 3",
   "language": "python",
   "name": "python3"
  },
  "language_info": {
   "codemirror_mode": {
    "name": "ipython",
    "version": 2
   },
   "file_extension": ".py",
   "mimetype": "text/x-python",
   "name": "python",
   "nbconvert_exporter": "python",
   "pygments_lexer": "ipython2",
   "version": "2.7.6"
  }
 },
 "nbformat": 4,
 "nbformat_minor": 5
}
